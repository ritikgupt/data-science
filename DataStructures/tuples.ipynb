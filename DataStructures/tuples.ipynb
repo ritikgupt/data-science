{
 "cells": [
  {
   "cell_type": "code",
   "execution_count": 1,
   "metadata": {},
   "outputs": [
    {
     "name": "stdout",
     "output_type": "stream",
     "text": [
      "()\n"
     ]
    }
   ],
   "source": [
    "# Creating a tuple\n",
    "empty_tuple=()\n",
    "print(empty_tuple)"
   ]
  },
  {
   "cell_type": "code",
   "execution_count": 2,
   "metadata": {},
   "outputs": [
    {
     "data": {
      "text/plain": [
       "(1, 2, 3, 4, 5, 6)"
      ]
     },
     "execution_count": 2,
     "metadata": {},
     "output_type": "execute_result"
    }
   ],
   "source": [
    "numbers=tuple([1,2,3,4,5,6])\n",
    "numbers"
   ]
  },
  {
   "cell_type": "code",
   "execution_count": 3,
   "metadata": {},
   "outputs": [
    {
     "data": {
      "text/plain": [
       "[1, 2, 3, 4, 5]"
      ]
     },
     "execution_count": 3,
     "metadata": {},
     "output_type": "execute_result"
    }
   ],
   "source": [
    "list((1,2,3,4,5))"
   ]
  },
  {
   "cell_type": "code",
   "execution_count": 5,
   "metadata": {},
   "outputs": [
    {
     "name": "stdout",
     "output_type": "stream",
     "text": [
      "(1, 'heerr', 3.34, True)\n"
     ]
    }
   ],
   "source": [
    "mixed_tuple=(1,\"heerr\",3.34,True)\n",
    "print(mixed_tuple)"
   ]
  },
  {
   "cell_type": "code",
   "execution_count": 6,
   "metadata": {},
   "outputs": [
    {
     "data": {
      "text/plain": [
       "(1, 2, 3, 4, 5, 6)"
      ]
     },
     "execution_count": 6,
     "metadata": {},
     "output_type": "execute_result"
    }
   ],
   "source": [
    "#Accessing Tuple Elements\n",
    "numbers"
   ]
  },
  {
   "cell_type": "code",
   "execution_count": 8,
   "metadata": {},
   "outputs": [
    {
     "data": {
      "text/plain": [
       "(1, 2, 3, 4)"
      ]
     },
     "execution_count": 8,
     "metadata": {},
     "output_type": "execute_result"
    }
   ],
   "source": [
    "numbers[3]\n",
    "numbers[0:4]"
   ]
  },
  {
   "cell_type": "code",
   "execution_count": 10,
   "metadata": {},
   "outputs": [
    {
     "name": "stdout",
     "output_type": "stream",
     "text": [
      "(1, 2, 3, 4, 5, 6, 1, 'heerr', 3.34, True)\n"
     ]
    }
   ],
   "source": [
    "## Tuple Operations\n",
    "concatenation_tuple = numbers+mixed_tuple\n",
    "print(concatenation_tuple)"
   ]
  },
  {
   "cell_type": "code",
   "execution_count": 11,
   "metadata": {},
   "outputs": [
    {
     "data": {
      "text/plain": [
       "(1, 'heerr', 3.34, True, 1, 'heerr', 3.34, True, 1, 'heerr', 3.34, True)"
      ]
     },
     "execution_count": 11,
     "metadata": {},
     "output_type": "execute_result"
    }
   ],
   "source": [
    "mixed_tuple*3"
   ]
  },
  {
   "cell_type": "code",
   "execution_count": 13,
   "metadata": {},
   "outputs": [
    {
     "data": {
      "text/plain": [
       "(1, 2, 3, 4, 5, 6, 1, 2, 3, 4, 5, 6, 1, 2, 3, 4, 5, 6)"
      ]
     },
     "execution_count": 13,
     "metadata": {},
     "output_type": "execute_result"
    }
   ],
   "source": [
    "numbers*3"
   ]
  },
  {
   "cell_type": "code",
   "execution_count": 16,
   "metadata": {},
   "outputs": [
    {
     "ename": "TypeError",
     "evalue": "'tuple' object does not support item assignment",
     "output_type": "error",
     "traceback": [
      "\u001b[0;31m---------------------------------------------------------------------------\u001b[0m",
      "\u001b[0;31mTypeError\u001b[0m                                 Traceback (most recent call last)",
      "\u001b[1;32m/Users/ritikgupta/python/DataStructures/tuples.ipynb Cell 10\u001b[0m line \u001b[0;36m3\n\u001b[1;32m      <a href='vscode-notebook-cell:/Users/ritikgupta/python/DataStructures/tuples.ipynb#W5sZmlsZQ%3D%3D?line=0'>1</a>\u001b[0m \u001b[39m# Immutable Nature Of Tuples\u001b[39;00m\n\u001b[1;32m      <a href='vscode-notebook-cell:/Users/ritikgupta/python/DataStructures/tuples.ipynb#W5sZmlsZQ%3D%3D?line=1'>2</a>\u001b[0m \u001b[39m# Tuples are immutable, meaning elements cannot change once assigned\u001b[39;00m\n\u001b[0;32m----> <a href='vscode-notebook-cell:/Users/ritikgupta/python/DataStructures/tuples.ipynb#W5sZmlsZQ%3D%3D?line=2'>3</a>\u001b[0m numbers[\u001b[39m1\u001b[39;49m]\u001b[39m=\u001b[39m\u001b[39m2\u001b[39m\n",
      "\u001b[0;31mTypeError\u001b[0m: 'tuple' object does not support item assignment"
     ]
    }
   ],
   "source": [
    "# Immutable Nature Of Tuples\n",
    "# Tuples are immutable, meaning elements cannot change once assigned\n",
    "numbers[1]=2"
   ]
  },
  {
   "cell_type": "code",
   "execution_count": 19,
   "metadata": {},
   "outputs": [
    {
     "name": "stdout",
     "output_type": "stream",
     "text": [
      "1\n",
      "2\n"
     ]
    }
   ],
   "source": [
    "#Tuple Methods\n",
    "print(numbers.count(2))\n",
    "print(numbers.index(3))"
   ]
  },
  {
   "cell_type": "code",
   "execution_count": 22,
   "metadata": {},
   "outputs": [
    {
     "name": "stdout",
     "output_type": "stream",
     "text": [
      "(1, 'Hello', 3.14)\n",
      "1\n",
      "Hello\n",
      "3.14\n",
      "1\n",
      "[2, 3, 4, 5]\n",
      "6\n"
     ]
    }
   ],
   "source": [
    "# Packing and Unpacking tuple\n",
    "packed_tuple=1,\"Hello\",3.14\n",
    "print(packed_tuple)\n",
    "a,b,c=packed_tuple\n",
    "print(a)\n",
    "print(b)\n",
    "print(c)\n",
    "#Unpacking with *\n",
    "numbers=(1,2,3,4,5,6)\n",
    "first,*middle,last=numbers\n",
    "print(first)\n",
    "print(middle)\n",
    "print(last)"
   ]
  },
  {
   "cell_type": "code",
   "execution_count": 30,
   "metadata": {},
   "outputs": [
    {
     "name": "stdout",
     "output_type": "stream",
     "text": [
      "[[1, 2, 3, 4, 5], [6, 7, 8, 9], [1, 'Hello', 3.14, 'c']]\n",
      "((1, 2, 3, 4, 5), (6, 7, 8, 9), (1, 'Hello', 3.14, 'c'))\n"
     ]
    }
   ],
   "source": [
    "## Nested Tuple\n",
    "#Nested List\n",
    "lst=[[1,2,3,4,5],[6,7,8,9],[1,\"Hello\",3.14,\"c\"]]\n",
    "lst[0][0:3]\n",
    "print(lst)\n",
    "#nested Tuple \n",
    "nested_tuple=((1,2,3,4,5),(6,7,8,9),(1,\"Hello\",3.14,\"c\"))\n",
    "nested_tuple[0][0:3]\n",
    "print(nested_tuple)"
   ]
  },
  {
   "cell_type": "code",
   "execution_count": null,
   "metadata": {},
   "outputs": [],
   "source": []
  }
 ],
 "metadata": {
  "kernelspec": {
   "display_name": "Python 3",
   "language": "python",
   "name": "python3"
  },
  "language_info": {
   "codemirror_mode": {
    "name": "ipython",
    "version": 3
   },
   "file_extension": ".py",
   "mimetype": "text/x-python",
   "name": "python",
   "nbconvert_exporter": "python",
   "pygments_lexer": "ipython3",
   "version": "3.13.1"
  }
 },
 "nbformat": 4,
 "nbformat_minor": 2
}
